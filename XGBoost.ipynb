{
 "cells": [
  {
   "cell_type": "code",
   "execution_count": 1,
   "metadata": {},
   "outputs": [],
   "source": [
    "import pandas as pd\n",
    "import numpy as np\n",
    "from datetime import datetime\n",
    "import xgboost as xgb\n",
    "from sklearn import metrics as mx\n",
    "from sklearn import preprocessing\n",
    "from xgboost import plot_importance\n",
    "from matplotlib import pyplot as plt\n",
    "from sklearn.model_selection import train_test_split\n",
    "from sklearn.model_selection import cross_val_score"
   ]
  },
  {
   "cell_type": "code",
   "execution_count": 19,
   "metadata": {},
   "outputs": [],
   "source": [
    "#load data\n",
    "MonthlyADTM_20 = pd.read_csv(\"MonthlyADTM_20.csv\")\n",
    "MonthlyRet_HL_60d = pd.read_csv(\"MonthlyRet_HL_60d.csv\")\n",
    "MonthlyTurn_CoV_1M = pd.read_csv(\"MonthlyTurn_CoV_1M.csv\")\n",
    "MonthleyMA_5D = pd.read_csv(\"MA_5D.csv\")\n",
    "Monthlyalpha003 = pd.read_csv(\"Monthlyalpha003.csv\")\n",
    "Monthlyalpha015 = pd.read_csv(\"Monthlyalpha015.csv\")\n",
    "Monthlyalpha044 = pd.read_csv(\"Monthlyalpha044.csv\")\n",
    "volume_data = pd.read_csv(\"volume_data.csv\")\n",
    "close_data = pd.read_csv(\"close_data.csv\")"
   ]
  },
  {
   "cell_type": "code",
   "execution_count": 4,
   "metadata": {},
   "outputs": [],
   "source": [
    "#merge data togethers\n",
    "ADTM_20 = MonthlyADTM_20.drop(['neutData','Open','Unnamed: 0'],axis=1)\n",
    "Ret_HL_60d = MonthlyRet_HL_60d.drop(['neutData','Open','Unnamed: 0'],axis=1)\n",
    "Turn_CoV_1M = MonthlyTurn_CoV_1M.drop(['neutData','Open','Unnamed: 0'],axis=1)\n",
    "MA_5D = MonthleyMA_5D.drop(['Unnamed: 0'],axis=1)\n",
    "alpha003 = Monthlyalpha003.drop(['Year','Open','Unnamed: 0','Month','Day'],axis=1)\n",
    "alpha015 = Monthlyalpha015.drop(['Year','Open','Unnamed: 0','Month','Day'],axis=1)\n",
    "alpha044 = Monthlyalpha044.drop(['Year','Open','Unnamed: 0','Month','Day'],axis=1)\n",
    "close = close_data.drop(['Unnamed: 0','Unnamed: 0.1'],axis=1)\n",
    "volume = volume_data.drop(['Unnamed: 0','Unnamed: 0.1'],axis=1)\n"
   ]
  },
  {
   "cell_type": "code",
   "execution_count": 6,
   "metadata": {},
   "outputs": [],
   "source": [
    "combined_data = pd.merge(ADTM_20, Ret_HL_60d,how='inner',on=['dateTime', 'securityId'])\n",
    "combined_data = pd.merge(combined_data, Turn_CoV_1M,how='inner',on=['dateTime', 'securityId'])\n",
    "combined_data = pd.merge(combined_data, MA_5D,how='inner',on=['dateTime', 'securityId'])\n",
    "combined_data = pd.merge(combined_data, alpha003,how='inner',on=['dateTime', 'securityId'])\n",
    "combined_data = pd.merge(combined_data, alpha015,how='inner',on=['dateTime', 'securityId'])\n",
    "combined_data = pd.merge(combined_data, alpha044,how='inner',on=['dateTime', 'securityId'])\n",
    "combined_data = pd.merge(combined_data, volume,how='inner',on=['dateTime', 'securityId'])\n",
    "combined_data = pd.merge(combined_data, close,how='inner',on=['dateTime', 'securityId'])\n",
    "\n",
    "combined_data.columns = ['dateTime','securityId','ADTM_20','Ret_HL_60d',\n",
    "                         'Turn_CoV_1M','MA_5D','alpha003','alpha015','alpha044','volume','close']"
   ]
  },
  {
   "cell_type": "code",
   "execution_count": 7,
   "metadata": {},
   "outputs": [],
   "source": [
    "#calculate monthly return\n",
    "combined_data['close'] = combined_data.groupby(['securityId']).close.pct_change()\n",
    "combined_data['close'] = combined_data.groupby(['securityId']).close.shift(-1)\n",
    "#drop N/A\n",
    "combined_data = combined_data.dropna()"
   ]
  },
  {
   "cell_type": "code",
   "execution_count": 8,
   "metadata": {},
   "outputs": [
    {
     "data": {
      "text/html": [
       "<div>\n",
       "<style scoped>\n",
       "    .dataframe tbody tr th:only-of-type {\n",
       "        vertical-align: middle;\n",
       "    }\n",
       "\n",
       "    .dataframe tbody tr th {\n",
       "        vertical-align: top;\n",
       "    }\n",
       "\n",
       "    .dataframe thead th {\n",
       "        text-align: right;\n",
       "    }\n",
       "</style>\n",
       "<table border=\"1\" class=\"dataframe\">\n",
       "  <thead>\n",
       "    <tr style=\"text-align: right;\">\n",
       "      <th></th>\n",
       "      <th>dateTime</th>\n",
       "      <th>securityId</th>\n",
       "      <th>ADTM_20</th>\n",
       "      <th>Ret_HL_60d</th>\n",
       "      <th>Turn_CoV_1M</th>\n",
       "      <th>MA_5D</th>\n",
       "      <th>alpha003</th>\n",
       "      <th>alpha015</th>\n",
       "      <th>alpha044</th>\n",
       "      <th>volume</th>\n",
       "      <th>close</th>\n",
       "    </tr>\n",
       "  </thead>\n",
       "  <tbody>\n",
       "    <tr>\n",
       "      <th>0</th>\n",
       "      <td>2013-01-31</td>\n",
       "      <td>000001.SZ</td>\n",
       "      <td>0.777358</td>\n",
       "      <td>-1.158147</td>\n",
       "      <td>0.456334</td>\n",
       "      <td>20.806</td>\n",
       "      <td>0.446971</td>\n",
       "      <td>-3859.0</td>\n",
       "      <td>0.309608</td>\n",
       "      <td>4.158842e+05</td>\n",
       "      <td>0.090047</td>\n",
       "    </tr>\n",
       "    <tr>\n",
       "      <th>1</th>\n",
       "      <td>2013-01-31</td>\n",
       "      <td>000002.SZ</td>\n",
       "      <td>0.856354</td>\n",
       "      <td>-0.666143</td>\n",
       "      <td>1.573383</td>\n",
       "      <td>12.130</td>\n",
       "      <td>-0.828867</td>\n",
       "      <td>-175.0</td>\n",
       "      <td>0.651732</td>\n",
       "      <td>1.513078e+06</td>\n",
       "      <td>-0.000833</td>\n",
       "    </tr>\n",
       "    <tr>\n",
       "      <th>2</th>\n",
       "      <td>2013-01-31</td>\n",
       "      <td>000004.SZ</td>\n",
       "      <td>0.520000</td>\n",
       "      <td>-0.398561</td>\n",
       "      <td>0.931529</td>\n",
       "      <td>9.118</td>\n",
       "      <td>-0.646448</td>\n",
       "      <td>-4118.0</td>\n",
       "      <td>-0.784998</td>\n",
       "      <td>4.228628e+04</td>\n",
       "      <td>0.078326</td>\n",
       "    </tr>\n",
       "    <tr>\n",
       "      <th>3</th>\n",
       "      <td>2013-01-31</td>\n",
       "      <td>000005.SZ</td>\n",
       "      <td>0.524272</td>\n",
       "      <td>-0.608605</td>\n",
       "      <td>0.962775</td>\n",
       "      <td>3.156</td>\n",
       "      <td>0.108368</td>\n",
       "      <td>-4876.0</td>\n",
       "      <td>0.599197</td>\n",
       "      <td>1.468336e+05</td>\n",
       "      <td>-0.029032</td>\n",
       "    </tr>\n",
       "    <tr>\n",
       "      <th>4</th>\n",
       "      <td>2013-01-31</td>\n",
       "      <td>000006.SZ</td>\n",
       "      <td>0.584000</td>\n",
       "      <td>-0.380041</td>\n",
       "      <td>0.503653</td>\n",
       "      <td>5.510</td>\n",
       "      <td>0.828199</td>\n",
       "      <td>-4454.0</td>\n",
       "      <td>-0.852820</td>\n",
       "      <td>2.153523e+05</td>\n",
       "      <td>-0.057866</td>\n",
       "    </tr>\n",
       "    <tr>\n",
       "      <th>...</th>\n",
       "      <td>...</td>\n",
       "      <td>...</td>\n",
       "      <td>...</td>\n",
       "      <td>...</td>\n",
       "      <td>...</td>\n",
       "      <td>...</td>\n",
       "      <td>...</td>\n",
       "      <td>...</td>\n",
       "      <td>...</td>\n",
       "      <td>...</td>\n",
       "      <td>...</td>\n",
       "    </tr>\n",
       "    <tr>\n",
       "      <th>245012</th>\n",
       "      <td>2019-10-31</td>\n",
       "      <td>688066.SH</td>\n",
       "      <td>-0.650671</td>\n",
       "      <td>0.363570</td>\n",
       "      <td>0.342705</td>\n",
       "      <td>39.530</td>\n",
       "      <td>0.063125</td>\n",
       "      <td>-6931.0</td>\n",
       "      <td>-0.515959</td>\n",
       "      <td>2.179358e+04</td>\n",
       "      <td>-0.152935</td>\n",
       "    </tr>\n",
       "    <tr>\n",
       "      <th>245014</th>\n",
       "      <td>2019-10-31</td>\n",
       "      <td>688088.SH</td>\n",
       "      <td>-0.570994</td>\n",
       "      <td>0.082159</td>\n",
       "      <td>0.341646</td>\n",
       "      <td>49.434</td>\n",
       "      <td>-0.298077</td>\n",
       "      <td>-1967.0</td>\n",
       "      <td>0.432972</td>\n",
       "      <td>2.585893e+04</td>\n",
       "      <td>-0.113496</td>\n",
       "    </tr>\n",
       "    <tr>\n",
       "      <th>245017</th>\n",
       "      <td>2019-10-31</td>\n",
       "      <td>688122.SH</td>\n",
       "      <td>-0.594402</td>\n",
       "      <td>-0.178496</td>\n",
       "      <td>0.353570</td>\n",
       "      <td>33.444</td>\n",
       "      <td>0.209949</td>\n",
       "      <td>-5548.0</td>\n",
       "      <td>0.098736</td>\n",
       "      <td>2.414950e+04</td>\n",
       "      <td>-0.067851</td>\n",
       "    </tr>\n",
       "    <tr>\n",
       "      <th>245021</th>\n",
       "      <td>2019-10-31</td>\n",
       "      <td>688333.SH</td>\n",
       "      <td>-0.298005</td>\n",
       "      <td>-0.337279</td>\n",
       "      <td>0.248376</td>\n",
       "      <td>66.978</td>\n",
       "      <td>-0.719498</td>\n",
       "      <td>-3664.0</td>\n",
       "      <td>-0.149456</td>\n",
       "      <td>3.145248e+04</td>\n",
       "      <td>-0.161318</td>\n",
       "    </tr>\n",
       "    <tr>\n",
       "      <th>245023</th>\n",
       "      <td>2019-10-31</td>\n",
       "      <td>688388.SH</td>\n",
       "      <td>-0.422696</td>\n",
       "      <td>0.049385</td>\n",
       "      <td>0.401610</td>\n",
       "      <td>47.256</td>\n",
       "      <td>-0.228679</td>\n",
       "      <td>-2287.0</td>\n",
       "      <td>0.089294</td>\n",
       "      <td>4.163279e+04</td>\n",
       "      <td>-0.059023</td>\n",
       "    </tr>\n",
       "  </tbody>\n",
       "</table>\n",
       "<p>226738 rows × 11 columns</p>\n",
       "</div>"
      ],
      "text/plain": [
       "          dateTime securityId   ADTM_20  Ret_HL_60d  Turn_CoV_1M   MA_5D  \\\n",
       "0       2013-01-31  000001.SZ  0.777358   -1.158147     0.456334  20.806   \n",
       "1       2013-01-31  000002.SZ  0.856354   -0.666143     1.573383  12.130   \n",
       "2       2013-01-31  000004.SZ  0.520000   -0.398561     0.931529   9.118   \n",
       "3       2013-01-31  000005.SZ  0.524272   -0.608605     0.962775   3.156   \n",
       "4       2013-01-31  000006.SZ  0.584000   -0.380041     0.503653   5.510   \n",
       "...            ...        ...       ...         ...          ...     ...   \n",
       "245012  2019-10-31  688066.SH -0.650671    0.363570     0.342705  39.530   \n",
       "245014  2019-10-31  688088.SH -0.570994    0.082159     0.341646  49.434   \n",
       "245017  2019-10-31  688122.SH -0.594402   -0.178496     0.353570  33.444   \n",
       "245021  2019-10-31  688333.SH -0.298005   -0.337279     0.248376  66.978   \n",
       "245023  2019-10-31  688388.SH -0.422696    0.049385     0.401610  47.256   \n",
       "\n",
       "        alpha003  alpha015  alpha044        volume     close  \n",
       "0       0.446971   -3859.0  0.309608  4.158842e+05  0.090047  \n",
       "1      -0.828867    -175.0  0.651732  1.513078e+06 -0.000833  \n",
       "2      -0.646448   -4118.0 -0.784998  4.228628e+04  0.078326  \n",
       "3       0.108368   -4876.0  0.599197  1.468336e+05 -0.029032  \n",
       "4       0.828199   -4454.0 -0.852820  2.153523e+05 -0.057866  \n",
       "...          ...       ...       ...           ...       ...  \n",
       "245012  0.063125   -6931.0 -0.515959  2.179358e+04 -0.152935  \n",
       "245014 -0.298077   -1967.0  0.432972  2.585893e+04 -0.113496  \n",
       "245017  0.209949   -5548.0  0.098736  2.414950e+04 -0.067851  \n",
       "245021 -0.719498   -3664.0 -0.149456  3.145248e+04 -0.161318  \n",
       "245023 -0.228679   -2287.0  0.089294  4.163279e+04 -0.059023  \n",
       "\n",
       "[226738 rows x 11 columns]"
      ]
     },
     "execution_count": 8,
     "metadata": {},
     "output_type": "execute_result"
    }
   ],
   "source": [
    "combined_data"
   ]
  },
  {
   "cell_type": "code",
   "execution_count": 14,
   "metadata": {},
   "outputs": [],
   "source": [
    "#split into in-sample and out-of-sample, half/half\n",
    "in_sample = combined_data.iloc[:113369,:]\n",
    "out_of_sample = combined_data.iloc[113369:,:]"
   ]
  },
  {
   "cell_type": "code",
   "execution_count": 15,
   "metadata": {},
   "outputs": [
    {
     "name": "stdout",
     "output_type": "stream",
     "text": [
      "0.668875\n"
     ]
    }
   ],
   "source": [
    "#use in-sample data to adjust parameters.\n",
    "X_train = in_sample.iloc[:,2:10]\n",
    "Y_train = in_sample.iloc[:,10]\n",
    "data_dmatrix = xgb.DMatrix(data=X_train,label=Y_train)\n",
    "\n",
    "#cross validation\n",
    "params = {\"objective\":'reg:squarederror', \"learning_rate\":0.05 , 'max_depth':6, }\n",
    "cv_results = xgb.cv(dtrain = data_dmatrix, params=params, nfold=5,\n",
    "                    num_boost_round=10,metrics=\"rmse\")\n",
    "print(((1-cv_results[\"test-rmse-mean\"]).iloc[-1]))"
   ]
  },
  {
   "cell_type": "code",
   "execution_count": 16,
   "metadata": {},
   "outputs": [
    {
     "data": {
      "text/plain": [
       "array([ 3.9608032e-02,  2.2171766e-02,  4.3717474e-02, ...,\n",
       "        2.9206276e-05, -1.2982488e-03, -4.9505830e-02], dtype=float32)"
      ]
     },
     "execution_count": 16,
     "metadata": {},
     "output_type": "execute_result"
    }
   ],
   "source": [
    "#predict out-of-sample data\n",
    "X_test = out_of_sample.iloc[:,2:10]\n",
    "Y_test = out_of_sample.iloc[:,10]\n",
    "xg_reg = xgb.XGBRegressor(objective ='reg:squarederror', learning_rate = 0.1,max_depth = 6)\n",
    "xg_reg.fit(X_train,Y_train)\n",
    "preds = xg_reg.predict(X_test)\n",
    "preds"
   ]
  },
  {
   "cell_type": "code",
   "execution_count": 18,
   "metadata": {},
   "outputs": [
    {
     "data": {
      "image/png": "[encoded data removed]",
      "text/plain": [
       "<Figure size 432x288 with 1 Axes>"
      ]
     },
     "metadata": {
      "needs_background": "light"
     },
     "output_type": "display_data"
    }
   ],
   "source": [
    "plot_importance(xg_reg)\n",
    "plt.show() "
   ]
  },
  {
   "cell_type": "code",
   "execution_count": null,
   "metadata": {},
   "outputs": [],
   "source": [
    "xgboost = pd.DataFrame(out_of_sample.iloc[:,:2],columns = [\"dateTime\",\"securityId\"])\n",
    "xgboost['xgboost'] = preds\n",
    "xgboost.to_csv(\"xgboost_4.csv\")\n",
    "#xgboost"
   ]
  }
 ],
 "metadata": {
  "kernelspec": {
   "display_name": "Python 3",
   "language": "python",
   "name": "python3"
  },
  "language_info": {
   "codemirror_mode": {
    "name": "ipython",
    "version": 3
   },
   "file_extension": ".py",
   "mimetype": "text/x-python",
   "name": "python",
   "nbconvert_exporter": "python",
   "pygments_lexer": "ipython3",
   "version": "3.7.6"
  }
 },
 "nbformat": 4,
 "nbformat_minor": 4
}
